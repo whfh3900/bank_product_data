{
 "cells": [
  {
   "cell_type": "code",
   "execution_count": 41,
   "metadata": {},
   "outputs": [],
   "source": [
    "## pdf 라이브러리\n",
    "# import aspose.pdf as ap\n",
    "from reportlab.lib.pagesizes import letter\n",
    "from reportlab.platypus import SimpleDocTemplate, Paragraph\n",
    "from reportlab.lib.styles import getSampleStyleSheet\n",
    "\n",
    "import pandas as pd\n",
    "from glob import glob\n",
    "import os\n",
    "from tqdm import tqdm\n",
    "import zipfile"
   ]
  },
  {
   "cell_type": "code",
   "execution_count": null,
   "metadata": {},
   "outputs": [],
   "source": []
  },
  {
   "cell_type": "code",
   "execution_count": 42,
   "metadata": {},
   "outputs": [],
   "source": [
    "def local_folder_make(folder_path):\n",
    "    if not os.path.exists(folder_path):\n",
    "        os.makedirs(folder_path)"
   ]
  },
  {
   "cell_type": "code",
   "execution_count": 43,
   "metadata": {},
   "outputs": [],
   "source": [
    "def zip_folder(folder_path, output_path):\n",
    "    with zipfile.ZipFile(output_path, 'w', zipfile.ZIP_DEFLATED) as zipf:\n",
    "        for root, dirs, files in os.walk(folder_path):\n",
    "            for file in files:\n",
    "                file_path = os.path.join(root, file)\n",
    "                relative_path = os.path.relpath(file_path, folder_path)\n",
    "                zipf.write(file_path, arcname=relative_path)"
   ]
  },
  {
   "cell_type": "code",
   "execution_count": null,
   "metadata": {},
   "outputs": [],
   "source": []
  },
  {
   "cell_type": "code",
   "execution_count": 44,
   "metadata": {},
   "outputs": [],
   "source": [
    "path = \"../data/juju_data_add_20150101_20230919.csv\"\n",
    "df = pd.read_csv(path, encoding=\"utf-8-sig\")\n"
   ]
  },
  {
   "cell_type": "code",
   "execution_count": 45,
   "metadata": {},
   "outputs": [],
   "source": [
    "columns_mean = {\"CST_CNT\":\"보통주식(주)의 가격\",\n",
    "                \"PST_CNT\":\"기타주식(주)의 가격\",\n",
    "                \"CST_ISS_VAL\":\"신주 발행가액에서 확정발행가의 보통주식(주)의 가격\",\n",
    "                \"PST_ISS_VAL\":\"신주 발행가액에서 확정발행가의 기타주식(주)의 가격\",\n",
    "                \"PRE_CST_VAL\":\"신주 발행가액에서 예정발행가의 보통주식(주)의 가격\",\n",
    "                \"PRE_PST_VAL\":\"신주 발행가액에서 예정발행가의 기타주식(주)의 가격\",\n",
    "                \"PRE_CST_VAL_DT\":\"신주 발행가액에서 예정발행가의 보통주식(주)의 확정예정일\",\n",
    "                \"PRE_PST_VAL_DT\":\"신주 발행가액에서 예정발행가의 기타주식(주)의 확정예정일\",\n",
    "                \"ALL_BS_DT\":\"신주배정기준일\",\n",
    "                \"NEW_ASN_CNT\":\"1주당 신주배정주식수 (주)\",\n",
    "                \"EMP_BGN_DT\":\"우리사주조합 시작일\",\n",
    "                \"EMP_END_DT\":\"우리사주조합 종료일\",\n",
    "                \"SH_BGN_DT\":\"구주주 시작일\",\n",
    "                \"SH_END_DT\":\"구주주 종료일\",\n",
    "                \"PYM_DT\":\"납입일\",\n",
    "                \"PRC_PLN\":\"실권주 처리계획\",\n",
    "                \"LST_PLN_DT\":\"신주의 상장예정일\",\n",
    "                \"CHF_AGN\":\"대표주관회사\",\n",
    "                \"NST_GV_YN\":\"신주인수권 양도여부\",\n",
    "                \"FIP_CM\":\"확정 발행가액 산정방법\",\n",
    "                \"NST_RM\":\"신주인수권에 관한 사항\",\n",
    "                \"NST_SCH_DT\":\"신주인수권 거래소 거래기간(신주인수권증서 상장 예정기간)\",\n",
    "                \"CI_MTH\":\"증자방식\",\n",
    "                \"NOTES\":\"기타 투자판단에 참고할 사항\",\n",
    "                \"PUB_ANN_DT\":\"공시날짜\",}"
   ]
  },
  {
   "cell_type": "code",
   "execution_count": 46,
   "metadata": {},
   "outputs": [],
   "source": [
    "# hangle_font_path = \"C:/Windows/Fonts/NanumGothic.ttf\"\n",
    "# def create_pdf(series, save_path):\n",
    "#     RCEPT_NO = series.RCEPT_NO\n",
    "#     PUB_ANN_DT = series.PUB_ANN_DT\n",
    "    \n",
    "#     series = dict(series)\n",
    "#     result = [\"%s : %s\"%(columns_mean[key], value) for key, value in series.items() if key in columns_mean]\n",
    "\n",
    "#     # 문서 개체 초기화\n",
    "#     document = ap.Document()\n",
    "#     # 페이지 추가\n",
    "#     page = document.pages.add()\n",
    "    \n",
    "#     for i in result:\n",
    "#         # textfragment 객체 초기화\n",
    "#         text_fragment = ap.text.TextFragment(i)\n",
    "        \n",
    "#         # 폰트 설정\n",
    "#         text_fragment.text_state.font_size = 12  # 원하는 폰트 크기로 설정\n",
    "#         # 폰트 파일 로드 및 적용\n",
    "#         font = ap.text.FontRepository.open_font(hangle_font_path)\n",
    "#         text_fragment.text_state.font = font\n",
    "\n",
    "#         # 새 페이지에 텍스트 조각 추가\n",
    "#         page.paragraphs.add(text_fragment)\n",
    "\n",
    "\n",
    "#     local_path = os.path.join(save_path, PUB_ANN_DT)\n",
    "#     local_folder_make(local_path)\n",
    "#     file_path = os.path.join(local_path, str(RCEPT_NO)+\".pdf\")\n",
    "    \n",
    "#     # 업데이트된 PDF 저장\n",
    "#     document.save(file_path)\n",
    "    \n",
    "    \n",
    "def create_pdf(series, file_path):\n",
    "    series = dict(series)\n",
    "    result = [\"● %s : %s\"%(columns_mean[key], value) for key, value in series.items() if key in columns_mean]\n",
    "    \n",
    "    # Create a SimpleDocTemplate and add some content to it.\n",
    "    doc = SimpleDocTemplate(file_path, pagesize=letter)\n",
    "\n",
    "    # Get the default style set.\n",
    "    styles = getSampleStyleSheet()\n",
    "\n",
    "    # Override the default font size and name.\n",
    "    styles['Normal'].fontName = 'Malgun'\n",
    "    styles['Normal'].fontSize = 10\n",
    "    styles['Normal'].leading = 20\n",
    "\n",
    "    # Create a list to hold the content that will be added to the document.\n",
    "    content = []\n",
    "\n",
    "    # Add some text with automatic line breaks.\n",
    "    # long_text = \"안녕하세요 \" * 500   # This will be a very long line of text.\n",
    "    for text in result:\n",
    "        paragraph = Paragraph(text, styles['Normal'])\n",
    "        content.append(paragraph)\n",
    "\n",
    "    # Build the PDF document with the content list.\n",
    "    doc.build(content)\n",
    "    \n"
   ]
  },
  {
   "cell_type": "code",
   "execution_count": 47,
   "metadata": {},
   "outputs": [
    {
     "name": "stderr",
     "output_type": "stream",
     "text": [
      "100%|██████████| 84/84 [00:02<00:00, 35.34it/s]\n"
     ]
    }
   ],
   "source": [
    "pdf_path = \"../data/pdf\"\n",
    "for i in tqdm(range(len(df))):\n",
    "    series = df.iloc[i]\n",
    "    RCEPT_NO = series.RCEPT_NO\n",
    "    PUB_ANN_DT = series.PUB_ANN_DT\n",
    "    \n",
    "    local_path = os.path.join(pdf_path, PUB_ANN_DT)\n",
    "    local_folder_make(local_path)\n",
    "    file_path = os.path.join(local_path, str(RCEPT_NO)+\".pdf\")\n",
    "    \n",
    "    create_pdf(series, file_path)\n",
    "    "
   ]
  },
  {
   "cell_type": "code",
   "execution_count": 48,
   "metadata": {},
   "outputs": [],
   "source": [
    "for path in glob(pdf_path+\"/*\"):\n",
    "    # 폴더 압축 실행\n",
    "    zip_folder(path, path+\".zip\")"
   ]
  },
  {
   "cell_type": "code",
   "execution_count": null,
   "metadata": {},
   "outputs": [],
   "source": []
  }
 ],
 "metadata": {
  "kernelspec": {
   "display_name": "Python 3",
   "language": "python",
   "name": "python3"
  },
  "language_info": {
   "codemirror_mode": {
    "name": "ipython",
    "version": 3
   },
   "file_extension": ".py",
   "mimetype": "text/x-python",
   "name": "python",
   "nbconvert_exporter": "python",
   "pygments_lexer": "ipython3",
   "version": "3.8.10"
  },
  "orig_nbformat": 4
 },
 "nbformat": 4,
 "nbformat_minor": 2
}
