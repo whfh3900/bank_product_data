{
 "cells": [
  {
   "cell_type": "code",
   "execution_count": 1,
   "metadata": {},
   "outputs": [
    {
     "name": "stdout",
     "output_type": "stream",
     "text": [
      "./.env\n"
     ]
    },
    {
     "name": "stderr",
     "output_type": "stream",
     "text": [
      "WARNING:root:Can not find chromedriver for currently installed chrome version.\n"
     ]
    }
   ],
   "source": [
    "import os\n",
    "from dotenv import load_dotenv\n",
    "# .env 파일 경로 지정\n",
    "dotenv_path = os.path.join(\"./\", '.env')\n",
    "print(dotenv_path)\n",
    "# .env 파일 로드\n",
    "load_dotenv(dotenv_path)\n",
    "crtfc_key = os.getenv(\"DART_API_KEY\")  # API Key 입력\n",
    "import warnings\n",
    "warnings.filterwarnings(\"ignore\")\n",
    "from datetime import datetime, timedelta\n",
    "from dartapi import DartAPI\n",
    "import pandas as pd\n",
    "from tqdm import tqdm \n",
    "from glob import glob\n",
    "import json\n",
    "import xmltodict\n",
    "\n",
    "import chromedriver_autoinstaller\n",
    "chromedriver_autoinstaller.install()\n",
    "\n",
    "import requests\n",
    "import zipfile\n",
    "import xml.etree.ElementTree as ET\n"
   ]
  },
  {
   "cell_type": "code",
   "execution_count": 2,
   "metadata": {},
   "outputs": [],
   "source": [
    "def make_local_folder(folder_path):\n",
    "    if not os.path.exists(folder_path):\n",
    "        os.makedirs(folder_path)"
   ]
  },
  {
   "cell_type": "code",
   "execution_count": 3,
   "metadata": {},
   "outputs": [],
   "source": [
    "today = datetime.now().strftime('%Y%m%d')\n",
    "# three_months_ago = (datetime.now() - timedelta(days=3*30)).strftime('%Y%m%d')\n",
    "# six_months_ago = (datetime.now() - timedelta(days=6*30)).strftime('%Y%m%d')\n",
    "# oneyear_months_ago = (datetime.now() - timedelta(days=12*30)).strftime('%Y%m%d')\n",
    "# twoyear_months_ago = (datetime.now() - timedelta(days=24*30)).strftime('%Y%m%d')\n",
    "# threeyear_months_ago = (datetime.now() - timedelta(days=36*30)).strftime('%Y%m%d')\n"
   ]
  },
  {
   "cell_type": "code",
   "execution_count": 4,
   "metadata": {},
   "outputs": [],
   "source": [
    "api_class = DartAPI(crtfc_key=crtfc_key)"
   ]
  },
  {
   "cell_type": "code",
   "execution_count": 10,
   "metadata": {},
   "outputs": [
    {
     "name": "stdout",
     "output_type": "stream",
     "text": [
      "'../data/unique_corp' 폴더가 이미 존재합니다.\n"
     ]
    }
   ],
   "source": [
    "df = api_class.unique_num()\n",
    "dic = {i[1]:i[0] for i in zip(df['corp_code'], df['corp_name'])}"
   ]
  },
  {
   "cell_type": "code",
   "execution_count": 121,
   "metadata": {},
   "outputs": [],
   "source": [
    "\n",
    "path = '../data/MainMatterReport_usang_20230803_20230919.csv'\n",
    "usang_df = pd.read_csv(path, encoding='utf-8-sig', usecols=['회사명', '접수일'])\n",
    "usang_df['corp_code'] = usang_df['회사명'].map(dic)\n",
    "usang_dict = {i[1]:i[0] for i in zip(usang_df['corp_code'], usang_df['회사명'])}"
   ]
  },
  {
   "cell_type": "code",
   "execution_count": 122,
   "metadata": {},
   "outputs": [
    {
     "name": "stderr",
     "output_type": "stream",
     "text": [
      "100%|██████████| 63/63 [00:09<00:00,  6.48it/s]\n"
     ]
    }
   ],
   "source": [
    "## api 가져오기 및 접수일 merge\n",
    "usang_df_2 = api_class.usang(today, \"2023-08-03\", usang_dict)\n",
    "usang_df_2['접수일'] = usang_df['접수일']\n",
    "usang_df_2.to_csv(path, encoding='utf-8-sig', index=False)"
   ]
  },
  {
   "cell_type": "code",
   "execution_count": 124,
   "metadata": {},
   "outputs": [],
   "source": [
    "## 보고서 존재 유부 체크\n",
    "path = \"../data/MainMatterReport_usang_20230803_20230919.csv\"\n",
    "usang_df_2 = pd.read_csv(path, encoding='utf-8-sig')\n",
    "\n",
    "rcept_no = [os.path.basename(i).split('.')[0] for i in glob(\"../data/doc/*.xml\")]\n",
    "usang_df_2['보고서유무'] = usang_df_2['rcept_no'].apply(lambda x: True if str(x) in rcept_no else False)\n",
    "usang_df_2.to_csv(path, encoding='utf-8-sig', index=False)"
   ]
  },
  {
   "cell_type": "code",
   "execution_count": 8,
   "metadata": {},
   "outputs": [
    {
     "name": "stdout",
     "output_type": "stream",
     "text": [
      "4675\n"
     ]
    },
    {
     "data": {
      "text/html": [
       "<div>\n",
       "<style scoped>\n",
       "    .dataframe tbody tr th:only-of-type {\n",
       "        vertical-align: middle;\n",
       "    }\n",
       "\n",
       "    .dataframe tbody tr th {\n",
       "        vertical-align: top;\n",
       "    }\n",
       "\n",
       "    .dataframe thead th {\n",
       "        text-align: right;\n",
       "    }\n",
       "</style>\n",
       "<table border=\"1\" class=\"dataframe\">\n",
       "  <thead>\n",
       "    <tr style=\"text-align: right;\">\n",
       "      <th></th>\n",
       "      <th>rcept_no</th>\n",
       "      <th>corp_cls</th>\n",
       "      <th>corp_code</th>\n",
       "      <th>corp_name</th>\n",
       "      <th>nstk_ostk_cnt</th>\n",
       "      <th>nstk_estk_cnt</th>\n",
       "      <th>fv_ps</th>\n",
       "      <th>bfic_tisstk_ostk</th>\n",
       "      <th>bfic_tisstk_estk</th>\n",
       "      <th>fdpp_fclt</th>\n",
       "      <th>...</th>\n",
       "      <th>fdpp_dtrp</th>\n",
       "      <th>fdpp_ocsa</th>\n",
       "      <th>fdpp_etc</th>\n",
       "      <th>ic_mthn</th>\n",
       "      <th>ssl_at</th>\n",
       "      <th>ssl_bgd</th>\n",
       "      <th>ssl_edd</th>\n",
       "      <th>접수일</th>\n",
       "      <th>보고서유무</th>\n",
       "      <th>parser 에러여부</th>\n",
       "    </tr>\n",
       "  </thead>\n",
       "  <tbody>\n",
       "    <tr>\n",
       "      <th>0</th>\n",
       "      <td>20230914000187</td>\n",
       "      <td>N</td>\n",
       "      <td>1695498</td>\n",
       "      <td>이브이파킹서비스</td>\n",
       "      <td>1,666,667</td>\n",
       "      <td>-</td>\n",
       "      <td>100</td>\n",
       "      <td>15,266,666</td>\n",
       "      <td>-</td>\n",
       "      <td>-</td>\n",
       "      <td>...</td>\n",
       "      <td>-</td>\n",
       "      <td>-</td>\n",
       "      <td>-</td>\n",
       "      <td>제3자배정증자</td>\n",
       "      <td>N</td>\n",
       "      <td>-</td>\n",
       "      <td>-</td>\n",
       "      <td>2023-09-15</td>\n",
       "      <td>True</td>\n",
       "      <td>True</td>\n",
       "    </tr>\n",
       "    <tr>\n",
       "      <th>1</th>\n",
       "      <td>20230828000410</td>\n",
       "      <td>K</td>\n",
       "      <td>1227039</td>\n",
       "      <td>브릿지바이오</td>\n",
       "      <td>600,600</td>\n",
       "      <td>-</td>\n",
       "      <td>500</td>\n",
       "      <td>20,061,690</td>\n",
       "      <td>4,635,865</td>\n",
       "      <td>-</td>\n",
       "      <td>...</td>\n",
       "      <td>-</td>\n",
       "      <td>-</td>\n",
       "      <td>-</td>\n",
       "      <td>제3자배정증자</td>\n",
       "      <td>N</td>\n",
       "      <td>-</td>\n",
       "      <td>-</td>\n",
       "      <td>2023-09-15</td>\n",
       "      <td>True</td>\n",
       "      <td>True</td>\n",
       "    </tr>\n",
       "    <tr>\n",
       "      <th>2</th>\n",
       "      <td>20230823000377</td>\n",
       "      <td>N</td>\n",
       "      <td>578130</td>\n",
       "      <td>아퓨어스</td>\n",
       "      <td>3,679,114</td>\n",
       "      <td>-</td>\n",
       "      <td>500</td>\n",
       "      <td>38,407,138</td>\n",
       "      <td>-</td>\n",
       "      <td>-</td>\n",
       "      <td>...</td>\n",
       "      <td>-</td>\n",
       "      <td>-</td>\n",
       "      <td>-</td>\n",
       "      <td>제3자배정증자</td>\n",
       "      <td>N</td>\n",
       "      <td>-</td>\n",
       "      <td>-</td>\n",
       "      <td>2023-09-15</td>\n",
       "      <td>True</td>\n",
       "      <td>True</td>\n",
       "    </tr>\n",
       "    <tr>\n",
       "      <th>3</th>\n",
       "      <td>20230823000316</td>\n",
       "      <td>N</td>\n",
       "      <td>1185867</td>\n",
       "      <td>퓨쳐메디신</td>\n",
       "      <td>242,888</td>\n",
       "      <td>-</td>\n",
       "      <td>500</td>\n",
       "      <td>10,110,317</td>\n",
       "      <td>-</td>\n",
       "      <td>-</td>\n",
       "      <td>...</td>\n",
       "      <td>-</td>\n",
       "      <td>-</td>\n",
       "      <td>-</td>\n",
       "      <td>제3자배정증자</td>\n",
       "      <td>N</td>\n",
       "      <td>-</td>\n",
       "      <td>-</td>\n",
       "      <td>2023-09-15</td>\n",
       "      <td>True</td>\n",
       "      <td>True</td>\n",
       "    </tr>\n",
       "    <tr>\n",
       "      <th>4</th>\n",
       "      <td>20230825000523</td>\n",
       "      <td>K</td>\n",
       "      <td>139153</td>\n",
       "      <td>에코플라스틱</td>\n",
       "      <td>7,000,000</td>\n",
       "      <td>-</td>\n",
       "      <td>500</td>\n",
       "      <td>34,169,370</td>\n",
       "      <td>-</td>\n",
       "      <td>-</td>\n",
       "      <td>...</td>\n",
       "      <td>-</td>\n",
       "      <td>27,230,000,000</td>\n",
       "      <td>-</td>\n",
       "      <td>주주배정후 실권주 일반공모</td>\n",
       "      <td>Y</td>\n",
       "      <td>20230828</td>\n",
       "      <td>20231101</td>\n",
       "      <td>2023-08-22</td>\n",
       "      <td>True</td>\n",
       "      <td>True</td>\n",
       "    </tr>\n",
       "  </tbody>\n",
       "</table>\n",
       "<p>5 rows × 22 columns</p>\n",
       "</div>"
      ],
      "text/plain": [
       "         rcept_no corp_cls  corp_code corp_name nstk_ostk_cnt nstk_estk_cnt  \\\n",
       "0  20230914000187        N    1695498  이브이파킹서비스     1,666,667             -   \n",
       "1  20230828000410        K    1227039    브릿지바이오       600,600             -   \n",
       "2  20230823000377        N     578130      아퓨어스     3,679,114             -   \n",
       "3  20230823000316        N    1185867     퓨쳐메디신       242,888             -   \n",
       "4  20230825000523        K     139153    에코플라스틱     7,000,000             -   \n",
       "\n",
       "  fv_ps bfic_tisstk_ostk bfic_tisstk_estk fdpp_fclt  ... fdpp_dtrp  \\\n",
       "0   100       15,266,666                -         -  ...         -   \n",
       "1   500       20,061,690        4,635,865         -  ...         -   \n",
       "2   500       38,407,138                -         -  ...         -   \n",
       "3   500       10,110,317                -         -  ...         -   \n",
       "4   500       34,169,370                -         -  ...         -   \n",
       "\n",
       "        fdpp_ocsa fdpp_etc         ic_mthn ssl_at   ssl_bgd   ssl_edd  \\\n",
       "0               -        -         제3자배정증자      N         -         -   \n",
       "1               -        -         제3자배정증자      N         -         -   \n",
       "2               -        -         제3자배정증자      N         -         -   \n",
       "3               -        -         제3자배정증자      N         -         -   \n",
       "4  27,230,000,000        -  주주배정후 실권주 일반공모      Y  20230828  20231101   \n",
       "\n",
       "          접수일 보고서유무 parser 에러여부  \n",
       "0  2023-09-15  True        True  \n",
       "1  2023-09-15  True        True  \n",
       "2  2023-09-15  True        True  \n",
       "3  2023-09-15  True        True  \n",
       "4  2023-08-22  True        True  \n",
       "\n",
       "[5 rows x 22 columns]"
      ]
     },
     "execution_count": 8,
     "metadata": {},
     "output_type": "execute_result"
    }
   ],
   "source": [
    "path = \"../data/MainMatterReport_usang_20150101_20230919.csv\"\n",
    "usang_df_2 = pd.read_csv(path, encoding='utf-8-sig')\n",
    "print(len(usang_df_2))\n",
    "\n",
    "usang_df_2.head()"
   ]
  },
  {
   "cell_type": "code",
   "execution_count": 13,
   "metadata": {},
   "outputs": [
    {
     "name": "stderr",
     "output_type": "stream",
     "text": [
      "100%|██████████| 4675/4675 [00:01<00:00, 3924.02it/s]\n"
     ]
    }
   ],
   "source": [
    "## parser 에러여부\n",
    "## 보고서 종류\n",
    "\n",
    "save_path = \"../data/doc/\"\n",
    "usang_df_2[\"parser 에러여부\"] = True\n",
    "usang_df_2[\"보고서 종류\"] = \"-\"\n",
    "\n",
    "for i in tqdm([i for i in zip(usang_df_2['rcept_no'], usang_df_2.index, usang_df_2['ic_mthn'])]):\n",
    "    \n",
    "    rcept_no = i[0]\n",
    "    index = i[1]\n",
    "    capi_meth = i[2]\n",
    "\n",
    "    # XML 파일 경로\n",
    "    xml_file_path = os.path.join(save_path, \"%s.xml\"%rcept_no)\n",
    "    # XML 데이터 파싱\n",
    "    try:\n",
    "        tree = ET.parse(xml_file_path)\n",
    "        root = tree.getroot()\n",
    "        # if capi_meth in [\"주주배정증자\", \"주주배정후 실권주 일반공모\", \"제3자배정증자\"]:\n",
    "        report = root.findall(\".//TITLE\")[0].text\n",
    "        report = report.replace(\" \", \"\")\n",
    "        usang_df_2.at[index, \"보고서 종류\"] = report\n",
    "   \n",
    "    except Exception as e:\n",
    "        usang_df_2.at[index, \"parser 에러여부\"] = False\n",
    "\n",
    "\n",
    "usang_df_2.to_csv(path, encoding='utf-8-sig', index=False)"
   ]
  },
  {
   "cell_type": "code",
   "execution_count": null,
   "metadata": {},
   "outputs": [],
   "source": []
  },
  {
   "cell_type": "code",
   "execution_count": 146,
   "metadata": {},
   "outputs": [],
   "source": [
    "## merge\n",
    "path = \"../data/MainMatterReport_usang_20150101_20230803.csv\"\n",
    "df_1 = pd.read_csv(path, encoding='utf-8-sig')\n",
    "path = \"../data/MainMatterReport_usang_20230803_20230919.csv\"\n",
    "df_2 = pd.read_csv(path, encoding='utf-8-sig')\n",
    "df = pd.concat([df_1, df_2], axis=0)\n",
    "df = df.sort_values(['접수일'], ascending=False)\n",
    "path = \"../data/MainMatterReport_usang_20150101_20230919.csv\"\n",
    "df.to_csv(path, encoding='utf-8-sig', index=False)"
   ]
  },
  {
   "cell_type": "code",
   "execution_count": 116,
   "metadata": {},
   "outputs": [
    {
     "data": {
      "text/html": [
       "<div>\n",
       "<style scoped>\n",
       "    .dataframe tbody tr th:only-of-type {\n",
       "        vertical-align: middle;\n",
       "    }\n",
       "\n",
       "    .dataframe tbody tr th {\n",
       "        vertical-align: top;\n",
       "    }\n",
       "\n",
       "    .dataframe thead th {\n",
       "        text-align: right;\n",
       "    }\n",
       "</style>\n",
       "<table border=\"1\" class=\"dataframe\">\n",
       "  <thead>\n",
       "    <tr style=\"text-align: right;\">\n",
       "      <th></th>\n",
       "      <th>index</th>\n",
       "      <th>ic_mthn</th>\n",
       "    </tr>\n",
       "  </thead>\n",
       "  <tbody>\n",
       "    <tr>\n",
       "      <th>0</th>\n",
       "      <td>제3자배정증자</td>\n",
       "      <td>888</td>\n",
       "    </tr>\n",
       "    <tr>\n",
       "      <th>1</th>\n",
       "      <td>주주배정후 실권주 일반공모</td>\n",
       "      <td>65</td>\n",
       "    </tr>\n",
       "    <tr>\n",
       "      <th>2</th>\n",
       "      <td>주주배정증자</td>\n",
       "      <td>57</td>\n",
       "    </tr>\n",
       "    <tr>\n",
       "      <th>3</th>\n",
       "      <td>일반공모증자</td>\n",
       "      <td>48</td>\n",
       "    </tr>\n",
       "    <tr>\n",
       "      <th>4</th>\n",
       "      <td>주주우선공모증자</td>\n",
       "      <td>7</td>\n",
       "    </tr>\n",
       "  </tbody>\n",
       "</table>\n",
       "</div>"
      ],
      "text/plain": [
       "            index  ic_mthn\n",
       "0         제3자배정증자      888\n",
       "1  주주배정후 실권주 일반공모       65\n",
       "2          주주배정증자       57\n",
       "3          일반공모증자       48\n",
       "4        주주우선공모증자        7"
      ]
     },
     "execution_count": 116,
     "metadata": {},
     "output_type": "execute_result"
    }
   ],
   "source": [
    "pd.DataFrame(usang_df_2['ic_mthn'].value_counts()).reset_index()"
   ]
  },
  {
   "cell_type": "code",
   "execution_count": null,
   "metadata": {},
   "outputs": [],
   "source": []
  },
  {
   "cell_type": "code",
   "execution_count": null,
   "metadata": {},
   "outputs": [],
   "source": []
  }
 ],
 "metadata": {
  "kernelspec": {
   "display_name": "Python 3",
   "language": "python",
   "name": "python3"
  },
  "language_info": {
   "codemirror_mode": {
    "name": "ipython",
    "version": 3
   },
   "file_extension": ".py",
   "mimetype": "text/x-python",
   "name": "python",
   "nbconvert_exporter": "python",
   "pygments_lexer": "ipython3",
   "version": "3.8.10"
  },
  "orig_nbformat": 4
 },
 "nbformat": 4,
 "nbformat_minor": 2
}
