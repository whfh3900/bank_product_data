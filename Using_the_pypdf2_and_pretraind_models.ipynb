{
 "cells": [
  {
   "cell_type": "code",
   "execution_count": 187,
   "metadata": {},
   "outputs": [
    {
     "name": "stderr",
     "output_type": "stream",
     "text": [
      "Downloading: 100%|██████████| 784/784 [00:00<?, ?B/s] \n",
      "Downloading: 100%|██████████| 3.28G/3.28G [04:43<00:00, 11.6MB/s]\n",
      "Downloading: 100%|██████████| 2.92M/2.92M [00:00<00:00, 3.00MB/s]\n",
      "Downloading: 100%|██████████| 2.20k/2.20k [00:00<?, ?B/s]\n",
      "Downloading: 100%|██████████| 2.35k/2.35k [00:00<?, ?B/s]\n"
     ]
    },
    {
     "data": {
      "text/plain": [
       "<torch._C.Generator at 0x292825ce230>"
      ]
     },
     "execution_count": 187,
     "metadata": {},
     "output_type": "execute_result"
    }
   ],
   "source": [
    "import PyPDF2\n",
    "import re\n",
    "# import nltk\n",
    "# nltk.download('punkt')\n",
    "# from transformers import AutoTokenizer, AutoModelForSeq2SeqLM\n",
    "\n",
    "# model = AutoModelForSeq2SeqLM.from_pretrained('eenzeenee/t5-small-korean-summarization')\n",
    "# tokenizer = AutoTokenizer.from_pretrained('eenzeenee/t5-small-korean-summarization')\n",
    "# prefix = \"summarize: \"\n",
    "# Use a pipeline as a high-level helper\n",
    "from transformers import pipeline\n",
    "\n",
    "pipe = pipeline(\"summarization\", model=\"traintogpb/pko-t5-large-kor-for-colloquial-summarization-finetuned\")\n",
    "import random\n",
    "import torch\n",
    "\n",
    "\n",
    "\n",
    "# 시드 값을 설정합니다.\n",
    "random.seed(42)\n",
    "torch.manual_seed(42)\n"
   ]
  },
  {
   "cell_type": "code",
   "execution_count": 188,
   "metadata": {},
   "outputs": [],
   "source": [
    "# PDF 파일 경로\n",
    "pdf_path = '../data/[메드팩토]주요사항보고서(유상증자결정)(2023.09.12).pdf'\n",
    "# pdf_path = '../data/[에이스테크][정정]주요사항보고서(유상증자결정)(2023.09.12).pdf'"
   ]
  },
  {
   "cell_type": "code",
   "execution_count": 189,
   "metadata": {},
   "outputs": [
    {
     "name": "stdout",
     "output_type": "stream",
     "text": [
      "페이지 수: 7\n"
     ]
    }
   ],
   "source": [
    "texts = list()\n",
    "# PDF 파일 열기\n",
    "with open(pdf_path, 'rb') as file:\n",
    "    # PyPDF2.PdfReader 객체 생성\n",
    "    pdf_reader = PyPDF2.PdfReader(file)\n",
    "\n",
    "    # 페이지 수 출력\n",
    "    num_pages = len(pdf_reader.pages)\n",
    "    print(f'페이지 수: {num_pages}')\n",
    "\n",
    "    append = False\n",
    "    # 각 페이지의 텍스트 추출 및 출력\n",
    "    for page_num in range(num_pages):\n",
    "        page = pdf_reader.pages[page_num]\n",
    "        text = page.extract_text()\n",
    "        if text.startswith(\"유상증자 결정\"):\n",
    "            append = True\n",
    "        \n",
    "        if append:\n",
    "            texts.append(text)\n",
    "            \n",
    "texts = \"\\n\".join(texts)\n",
    "# texts = [i for i in texts.split('\\n') if i.strip() != \"\"]\n"
   ]
  },
  {
   "cell_type": "code",
   "execution_count": 145,
   "metadata": {},
   "outputs": [
    {
     "data": {
      "text/plain": [
       "'25,000,000'"
      ]
     },
     "execution_count": 145,
     "metadata": {},
     "output_type": "execute_result"
    }
   ],
   "source": [
    "# 1번\n",
    "\n",
    "# 시작 마커와 끝 마커 사이의 텍스트 추출\n",
    "start_marker = \"신주의 종류와 수보통주식 (주) \"\n",
    "end_marker = \"\\n\"\n",
    "\n",
    "pattern = re.escape(start_marker) + r\"(.*?)\" + re.escape(end_marker)\n",
    "matches = re.findall(pattern, texts)\n",
    "matches[0]"
   ]
  },
  {
   "cell_type": "code",
   "execution_count": 146,
   "metadata": {},
   "outputs": [
    {
     "data": {
      "text/plain": [
       "'-'"
      ]
     },
     "execution_count": 146,
     "metadata": {},
     "output_type": "execute_result"
    }
   ],
   "source": [
    "# 2번\n",
    "\n",
    "# 시작 마커와 끝 마커 사이의 텍스트 추출\n",
    "start_marker = \"기타주식 (주) \"\n",
    "end_marker = \"\\n\"\n",
    "\n",
    "pattern = re.escape(start_marker) + r\"(.*?)\" + re.escape(end_marker)\n",
    "matches = re.findall(pattern, texts)\n",
    "matches[0]"
   ]
  },
  {
   "cell_type": "code",
   "execution_count": 147,
   "metadata": {},
   "outputs": [
    {
     "data": {
      "text/plain": [
       "'1,436'"
      ]
     },
     "execution_count": 147,
     "metadata": {},
     "output_type": "execute_result"
    }
   ],
   "source": [
    "# 3번\n",
    "\n",
    "# 시작 마커와 끝 마커 사이의 텍스트 추출\n",
    "start_marker = \"확정발행가보통주식 (원) \"\n",
    "end_marker = \"\\n\"\n",
    "\n",
    "pattern = re.escape(start_marker) + r\"(.*?)\" + re.escape(end_marker)\n",
    "matches = re.findall(pattern, texts)\n",
    "matches[0]"
   ]
  },
  {
   "cell_type": "code",
   "execution_count": 148,
   "metadata": {},
   "outputs": [
    {
     "data": {
      "text/plain": [
       "'-'"
      ]
     },
     "execution_count": 148,
     "metadata": {},
     "output_type": "execute_result"
    }
   ],
   "source": [
    "# 4번\n",
    "\n",
    "# 시작 마커와 끝 마커 사이의 텍스트 추출\n",
    "start_marker = \"기타주식 (원) \"\n",
    "end_marker = \"\\n\"\n",
    "\n",
    "pattern = re.escape(start_marker) + r\"(.*?)\" + re.escape(end_marker)\n",
    "matches = re.findall(pattern, texts)\n",
    "matches[0]"
   ]
  },
  {
   "cell_type": "code",
   "execution_count": 149,
   "metadata": {},
   "outputs": [
    {
     "data": {
      "text/plain": [
       "'-'"
      ]
     },
     "execution_count": 149,
     "metadata": {},
     "output_type": "execute_result"
    }
   ],
   "source": [
    "# 5번\n",
    "\n",
    "# 시작 마커와 끝 마커 사이의 텍스트 추출\n",
    "start_marker = \"예정발행가보통주식 (원) \"\n",
    "end_marker = \"확정예정일\"\n",
    "\n",
    "pattern = re.escape(start_marker) + r\"(.*?)\" + re.escape(end_marker)\n",
    "matches = re.findall(pattern, texts)\n",
    "matches[0].strip()"
   ]
  },
  {
   "cell_type": "code",
   "execution_count": 150,
   "metadata": {},
   "outputs": [
    {
     "data": {
      "text/plain": [
       "'-'"
      ]
     },
     "execution_count": 150,
     "metadata": {},
     "output_type": "execute_result"
    }
   ],
   "source": [
    "# 6번\n",
    "\n",
    "# 시작 마커와 끝 마커 사이의 텍스트 추출\n",
    "start_marker = \"기타주식 (원) \"\n",
    "end_marker = \"확정예정일\"\n",
    "\n",
    "pattern = re.escape(start_marker) + r\"(.*?)\" + re.escape(end_marker)\n",
    "matches = re.findall(pattern, texts)\n",
    "matches[0].strip()"
   ]
  },
  {
   "cell_type": "code",
   "execution_count": 151,
   "metadata": {},
   "outputs": [
    {
     "data": {
      "text/plain": [
       "('2023년 09월 11일', '-')"
      ]
     },
     "execution_count": 151,
     "metadata": {},
     "output_type": "execute_result"
    }
   ],
   "source": [
    "# 7번, 8번\n",
    "\n",
    "# 시작 마커와 끝 마커 사이의 텍스트 추출\n",
    "start_marker = \"확정예정일 \"\n",
    "end_marker = \"\\n\"\n",
    "\n",
    "pattern = re.escape(start_marker) + r\"(.*?)\" + re.escape(end_marker)\n",
    "matches = re.findall(pattern, texts)\n",
    "matches[0], matches[1]"
   ]
  },
  {
   "cell_type": "code",
   "execution_count": 76,
   "metadata": {},
   "outputs": [],
   "source": [
    "# # 9번 \n",
    "# # 시작 마커와 끝 마커 사이의 텍스트 추출\n",
    "# start_marker = \"신주발행가액 산정방법\\n \\n\"\n",
    "# end_marker = \"\\n \\n나. 청약결과 배정방법\"\n",
    "\n",
    "\n",
    "# pattern = re.escape(start_marker) + r\"(.*?)\" + re.escape(end_marker)\n",
    "# matches = re.findall(pattern, texts, flags=re.DOTALL)\n",
    "# text = matches[0].replace(\"\\n\", \"\")\n",
    "\n",
    "# inputs = [prefix + text]\n",
    "\n",
    "\n",
    "# inputs = tokenizer(inputs, max_length=512, truncation=True, return_tensors=\"pt\")\n",
    "# output = model.generate(**inputs, num_beams=3, do_sample=True, min_length=10, max_length=64)\n",
    "# decoded_output = tokenizer.batch_decode(output, skip_special_tokens=True)[0]\n",
    "# result = nltk.sent_tokenize(decoded_output.strip())[0]\n",
    "# result\n"
   ]
  },
  {
   "cell_type": "code",
   "execution_count": 152,
   "metadata": {},
   "outputs": [
    {
     "data": {
      "text/plain": [
       "'2023년 08월 07일'"
      ]
     },
     "execution_count": 152,
     "metadata": {},
     "output_type": "execute_result"
    }
   ],
   "source": [
    "# 10번\n",
    "\n",
    "# 시작 마커와 끝 마커 사이의 텍스트 추출\n",
    "start_marker = \"신주배정기준일 \"\n",
    "end_marker = \"\\n\"\n",
    "\n",
    "pattern = re.escape(start_marker) + r\"(.*?)\" + re.escape(end_marker)\n",
    "matches = re.findall(pattern, texts)\n",
    "matches[0]"
   ]
  },
  {
   "cell_type": "code",
   "execution_count": 153,
   "metadata": {},
   "outputs": [
    {
     "data": {
      "text/plain": [
       "'0.5062981566'"
      ]
     },
     "execution_count": 153,
     "metadata": {},
     "output_type": "execute_result"
    }
   ],
   "source": [
    "# 11번\n",
    "\n",
    "# 시작 마커와 끝 마커 사이의 텍스트 추출\n",
    "start_marker = \"1주당 신주배정주식수 (주) \"\n",
    "end_marker = \"\\n\"\n",
    "\n",
    "pattern = re.escape(start_marker) + r\"(.*?)\" + re.escape(end_marker)\n",
    "matches = re.findall(pattern, texts)\n",
    "matches[0]"
   ]
  },
  {
   "cell_type": "code",
   "execution_count": 154,
   "metadata": {},
   "outputs": [
    {
     "data": {
      "text/plain": [
       "'-'"
      ]
     },
     "execution_count": 154,
     "metadata": {},
     "output_type": "execute_result"
    }
   ],
   "source": [
    "# 12번\n",
    "\n",
    "# 시작 마커와 끝 마커 사이의 텍스트 추출\n",
    "start_marker = \"우리\\n사주조합시작일 \"\n",
    "end_marker = \"\\n\"\n",
    "\n",
    "pattern = re.escape(start_marker) + r\"(.*?)\" + re.escape(end_marker)\n",
    "matches = re.findall(pattern, texts)\n",
    "matches[0]"
   ]
  },
  {
   "cell_type": "code",
   "execution_count": 155,
   "metadata": {},
   "outputs": [
    {
     "data": {
      "text/plain": [
       "('-', '2023년 09월 15일')"
      ]
     },
     "execution_count": 155,
     "metadata": {},
     "output_type": "execute_result"
    }
   ],
   "source": [
    "# 13번, 15번\n",
    "\n",
    "# 시작 마커와 끝 마커 사이의 텍스트 추출\n",
    "start_marker = \"종료일 \"\n",
    "end_marker = \"\\n\"\n",
    "\n",
    "pattern = re.escape(start_marker) + r\"(.*?)\" + re.escape(end_marker)\n",
    "matches = re.findall(pattern, texts)\n",
    "matches[0], matches[1]"
   ]
  },
  {
   "cell_type": "code",
   "execution_count": 156,
   "metadata": {},
   "outputs": [
    {
     "data": {
      "text/plain": [
       "'2023년 09월 14일'"
      ]
     },
     "execution_count": 156,
     "metadata": {},
     "output_type": "execute_result"
    }
   ],
   "source": [
    "# 14번\n",
    "\n",
    "# 시작 마커와 끝 마커 사이의 텍스트 추출\n",
    "start_marker = \"구주주시작일 \"\n",
    "end_marker = \"\\n\"\n",
    "\n",
    "pattern = re.escape(start_marker) + r\"(.*?)\" + re.escape(end_marker)\n",
    "matches = re.findall(pattern, texts)\n",
    "matches[0]"
   ]
  },
  {
   "cell_type": "code",
   "execution_count": 157,
   "metadata": {},
   "outputs": [
    {
     "data": {
      "text/plain": [
       "'2023년 09월 22일'"
      ]
     },
     "execution_count": 157,
     "metadata": {},
     "output_type": "execute_result"
    }
   ],
   "source": [
    "# 16번\n",
    "\n",
    "# 시작 마커와 끝 마커 사이의 텍스트 추출\n",
    "start_marker = \"납입일 \"\n",
    "end_marker = \"\\n\"\n",
    "\n",
    "pattern = re.escape(start_marker) + r\"(.*?)\" + re.escape(end_marker)\n",
    "matches = re.findall(pattern, texts)\n",
    "matches[0]"
   ]
  },
  {
   "cell_type": "code",
   "execution_count": 190,
   "metadata": {},
   "outputs": [
    {
     "data": {
      "text/plain": [
       "[{'summary_text': '구주주에게 신주인수권증서를 발행한다. 구주주에게 배정될 신주인수권증서 청약수는 보유하고 있는 신주인수권증서 총 수량에 해당하는 주식 수에 해당되므로, 구주주에게 배정될 수 있다. 신주인수권증서 청약수는 신주인수권증서 기준액에 해당하는 청약한 물량에 비례하여 배정된다. (1) 일반공모 청약시 청약수의 5배수를 배정하고, 나머지 비율은 개인청약자와 기관투자자에 배정한다.'}]"
      ]
     },
     "execution_count": 190,
     "metadata": {},
     "output_type": "execute_result"
    }
   ],
   "source": [
    "# 17번\n",
    "\n",
    "# 시작 마커와 끝 마커 사이의 텍스트 추출\n",
    "start_marker = \"\\n \\n나. 청약결과 배정방법\"\n",
    "end_marker = \"\\n \\n다. 청약취급처\"\n",
    "\n",
    "\n",
    "pattern = re.escape(start_marker) + r\"(.*?)\" + re.escape(end_marker)\n",
    "matches = re.findall(pattern, texts, flags=re.DOTALL)\n",
    "text = matches[0].replace(\"\\n\", \"\")\n",
    "\n",
    "# inputs = [prefix + text]\n",
    "\n",
    "\n",
    "# inputs = tokenizer(inputs, max_length=512, truncation=True, return_tensors=\"pt\")\n",
    "# output = model.generate(**inputs, num_beams=3, do_sample=True, min_length=10, max_length=64)\n",
    "# decoded_output = tokenizer.batch_decode(output, skip_special_tokens=True)[0]\n",
    "# result = nltk.sent_tokenize(decoded_output.strip())[0]\n",
    "# result\n",
    "\n",
    "\n",
    "result = pipe(text, max_length=150, min_length=40, do_sample=True)\n",
    "result\n"
   ]
  },
  {
   "cell_type": "code",
   "execution_count": 161,
   "metadata": {},
   "outputs": [
    {
     "data": {
      "text/plain": [
       "'2023년 10월 11일'"
      ]
     },
     "execution_count": 161,
     "metadata": {},
     "output_type": "execute_result"
    }
   ],
   "source": [
    "# 18번\n",
    "\n",
    "# 시작 마커와 끝 마커 사이의 텍스트 추출\n",
    "start_marker = \"신주의 상장예정일 \"\n",
    "end_marker = \"\\n\"\n",
    "\n",
    "pattern = re.escape(start_marker) + r\"(.*?)\" + re.escape(end_marker)\n",
    "matches = re.findall(pattern, texts)\n",
    "matches[0]"
   ]
  },
  {
   "cell_type": "code",
   "execution_count": 162,
   "metadata": {},
   "outputs": [
    {
     "data": {
      "text/plain": [
       "'SK증권 주식회사'"
      ]
     },
     "execution_count": 162,
     "metadata": {},
     "output_type": "execute_result"
    }
   ],
   "source": [
    "# 19번\n",
    "\n",
    "# 시작 마커와 끝 마커 사이의 텍스트 추출\n",
    "start_marker = \"대표주관회사(직접공모가 아닌 경우) \"\n",
    "end_marker = \"\\n\"\n",
    "\n",
    "pattern = re.escape(start_marker) + r\"(.*?)\" + re.escape(end_marker)\n",
    "matches = re.findall(pattern, texts)\n",
    "matches[0]"
   ]
  },
  {
   "cell_type": "code",
   "execution_count": 163,
   "metadata": {},
   "outputs": [
    {
     "data": {
      "text/plain": [
       "'예'"
      ]
     },
     "execution_count": 163,
     "metadata": {},
     "output_type": "execute_result"
    }
   ],
   "source": [
    "# 20번\n",
    "\n",
    "# 시작 마커와 끝 마커 사이의 텍스트 추출\n",
    "start_marker = \"신주인수권양도여부 \"\n",
    "end_marker = \"\\n\"\n",
    "\n",
    "pattern = re.escape(start_marker) + r\"(.*?)\" + re.escape(end_marker)\n",
    "matches = re.findall(pattern, texts)\n",
    "matches[0]"
   ]
  },
  {
   "cell_type": "code",
   "execution_count": 191,
   "metadata": {},
   "outputs": [
    {
     "data": {
      "text/plain": [
       "[{'summary_text': '신주의 배당기산일 2023년 10월 10일- 신주인수권증서의 상장 및 중개를 담당할 금융투자업자삼성증권 주식회사, 한양증권 주식회사, 신주의 상장 및 중개 담당의 금융투자업자삼성증권 주식회사, 한양증권 주식회사, 신주의 상장예정일 2023년 12월 26일 3. 일반공모 청약 제한 기간 중 2차 발행 가액보다 낮을 경우 확정 발행가액의 가격을 확정 발행가액으로 합니다.'}]"
      ]
     },
     "execution_count": 191,
     "metadata": {},
     "output_type": "execute_result"
    }
   ],
   "source": [
    "# 21번\n",
    "\n",
    "# 시작 마커와 끝 마커 사이의 텍스트 추출\n",
    "start_marker = \"3) 확정 발행가액:\"\n",
    "end_marker = \"최종 발행가액은\"\n",
    "\n",
    "\n",
    "pattern = re.escape(start_marker) + r\"(.*?)\" + re.escape(end_marker)\n",
    "matches = re.findall(pattern, texts, flags=re.DOTALL)\n",
    "text = matches[0].replace(\"\\n\", \"\")\n",
    "\n",
    "# inputs = [prefix + text]\n",
    "\n",
    "\n",
    "# inputs = tokenizer(inputs, max_length=512, truncation=True, return_tensors=\"pt\")\n",
    "# output = model.generate(**inputs, num_beams=3, do_sample=True, min_length=10, max_length=64)\n",
    "# decoded_output = tokenizer.batch_decode(output, skip_special_tokens=True)[0]\n",
    "# result = nltk.sent_tokenize(decoded_output.strip())[0]\n",
    "\n",
    "result = pipe(text, max_length=150, min_length=40, do_sample=True)\n",
    "result\n"
   ]
  },
  {
   "cell_type": "code",
   "execution_count": 184,
   "metadata": {},
   "outputs": [
    {
     "data": {
      "text/plain": [
       "'보유 주식 1주당 0.5906579367주를 받을 수 있습니다.'"
      ]
     },
     "execution_count": 184,
     "metadata": {},
     "output_type": "execute_result"
    }
   ],
   "source": [
    "# 22번\n",
    "\n",
    "# 시작 마커와 끝 마커 사이의 텍스트 추출\n",
    "start_marker = \"H. 구주주 1주당 배정비율\"\n",
    "end_marker = \"\\n\"\n",
    "\n",
    "pattern = re.escape(start_marker) + r\"(.*?)\" + re.escape(end_marker)\n",
    "matches = re.findall(pattern, texts, flags=re.DOTALL)\n",
    "text = matches[0].replace(\" \", \"\")[5:]\n",
    "'보유 주식 1주당 %s주를 받을 수 있습니다.'%text"
   ]
  },
  {
   "cell_type": "code",
   "execution_count": 192,
   "metadata": {},
   "outputs": [
    {
     "data": {
      "text/plain": [
       "[{'summary_text': '한국거래소 유상증자 시 신주인수권증서는 자본시장과 금융투자업에 관한 법률및 전자증권제도 시행 이전에 발행 될 예정으로 전자증권으로 발행된다.주주 소유 주식에 대한 배정 신주인수권증서는 해당 증권사 계좌에 지급되며, 명의개서대행기관 보유 주식은 명의개서대행기관 내 특별계좌에 소유자별로 발행 처리된다.'}]"
      ]
     },
     "execution_count": 192,
     "metadata": {},
     "output_type": "execute_result"
    }
   ],
   "source": [
    "# 23번\n",
    "\n",
    "# 시작 마커와 끝 마커 사이의 텍스트 추출\n",
    "start_marker = \"신주인수권에 관한 사항\\n \\n\"\n",
    "end_marker = \"\\n \\n마. 기타 참고사항\"\n",
    "\n",
    "pattern = re.escape(start_marker) + r\"(.*?)\" + re.escape(end_marker)\n",
    "matches = re.findall(pattern, texts, flags=re.DOTALL)\n",
    "text = matches[0].replace(\"\\n\", \"\")\n",
    "\n",
    "# inputs = [prefix + text]\n",
    "\n",
    "\n",
    "# inputs = tokenizer(inputs, max_length=512, truncation=True, return_tensors=\"pt\")\n",
    "# output = model.generate(**inputs, num_beams=3, do_sample=True, min_length=10, max_length=64)\n",
    "# decoded_output = tokenizer.batch_decode(output, skip_special_tokens=True)[0]\n",
    "# result = nltk.sent_tokenize(decoded_output.strip())[0]\n",
    "\n",
    "\n",
    "result = pipe(text, max_length=150, min_length=40, do_sample=True)\n",
    "result"
   ]
  },
  {
   "cell_type": "code",
   "execution_count": 186,
   "metadata": {},
   "outputs": [
    {
     "data": {
      "text/plain": [
       "'2023년 11월 22일~ 2023년 11월 28일'"
      ]
     },
     "execution_count": 186,
     "metadata": {},
     "output_type": "execute_result"
    }
   ],
   "source": [
    "# 24번\n",
    "\n",
    "# 시작 마커와 끝 마커 사이의 텍스트 추출\n",
    "start_marker = \" 신주인수권증서 상장예정기간 : \"\n",
    "end_marker = \"\\n\"\n",
    "\n",
    "pattern = re.escape(start_marker) + r\"(.*?)\" + re.escape(end_marker)\n",
    "matches = re.findall(pattern, texts, flags=re.DOTALL)\n",
    "text = matches[0]\n",
    "text"
   ]
  }
 ],
 "metadata": {
  "kernelspec": {
   "display_name": "Python 3",
   "language": "python",
   "name": "python3"
  },
  "language_info": {
   "codemirror_mode": {
    "name": "ipython",
    "version": 3
   },
   "file_extension": ".py",
   "mimetype": "text/x-python",
   "name": "python",
   "nbconvert_exporter": "python",
   "pygments_lexer": "ipython3",
   "version": "3.8.10"
  },
  "orig_nbformat": 4
 },
 "nbformat": 4,
 "nbformat_minor": 2
}
