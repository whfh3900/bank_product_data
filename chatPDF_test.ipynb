{
 "cells": [
  {
   "cell_type": "code",
   "execution_count": 1,
   "metadata": {},
   "outputs": [
    {
     "name": "stdout",
     "output_type": "stream",
     "text": [
      "./.env\n"
     ]
    },
    {
     "data": {
      "text/plain": [
       "True"
      ]
     },
     "execution_count": 1,
     "metadata": {},
     "output_type": "execute_result"
    }
   ],
   "source": [
    "import requests\n",
    "import os\n",
    "from dotenv import load_dotenv\n",
    "# .env 파일 경로 지정\n",
    "dotenv_path = os.path.join(\"./\", '.env')\n",
    "print(dotenv_path)\n",
    "# .env 파일 로드\n",
    "load_dotenv(dotenv_path)"
   ]
  },
  {
   "cell_type": "code",
   "execution_count": 5,
   "metadata": {},
   "outputs": [],
   "source": [
    "api_key = os.getenv(\"OPENPDF_API_KEY\")\n",
    "base_url = 'https://api.chatpdf.com/v1'\n",
    "add_pdf_via_url = '/sources/add-file'\n",
    "chat_with_pdf_url = '/chats/message'\n",
    "\n",
    "# data = \"http://www.e-ffyc.re.kr/xml/03711/03711.pdf\" # 청소년 대상 학급단위 자살예방 프로그램이자살위험성과 자살태도에 미치는 효과\n",
    "\n",
    "path = \"../data/[메드팩토]주요사항보고서(유상증자결정)(2023.09.12).pdf\"\n",
    "files = [\n",
    "    ('file', ('file', open(path, 'rb'), 'application/octet-stream'))\n",
    "]"
   ]
  },
  {
   "cell_type": "code",
   "execution_count": 6,
   "metadata": {},
   "outputs": [
    {
     "name": "stdout",
     "output_type": "stream",
     "text": [
      "Source ID: src_4nj2BMPKvixbGS3nzoZSr\n"
     ]
    }
   ],
   "source": [
    "# Add PDF via URL\n",
    "# PDF 파일이 URL을 통해 공개적으로 액세스할 수 있는 경우 ChatPDF로 보내는 가장 쉬운 방법입니다. 이 끝점은 PDF 파일과 상호 작용하는 데 사용할 수 있는 소스 ID를 반환합니다.\n",
    "\n",
    "headers = {\n",
    "  'x-api-key': api_key,\n",
    "}\n",
    "\n",
    "response = requests.post(\n",
    "    base_url+add_pdf_via_url, headers=headers, files=files)\n",
    "\n",
    "if response.status_code == 200:\n",
    "    print('Source ID:', response.json()['sourceId'])\n",
    "else:\n",
    "    print('Status:', response.status_code)\n",
    "    print('Error:', response.text)"
   ]
  },
  {
   "cell_type": "code",
   "execution_count": 7,
   "metadata": {},
   "outputs": [],
   "source": [
    "sourceId = response.json()['sourceId']\n"
   ]
  },
  {
   "cell_type": "code",
   "execution_count": 8,
   "metadata": {},
   "outputs": [],
   "source": [
    "sourceId = 'src_4nj2BMPKvixbGS3nzoZSr'"
   ]
  },
  {
   "cell_type": "code",
   "execution_count": null,
   "metadata": {},
   "outputs": [],
   "source": []
  },
  {
   "cell_type": "code",
   "execution_count": 9,
   "metadata": {},
   "outputs": [
    {
     "name": "stdout",
     "output_type": "stream",
     "text": [
      "user Result: 가. 신주발행가액의 산정방법은 1차 발행가액으로, 신주배정기준일 전 제3거래일을 기산일로 하여 코스닥시장에서 성립된 거래대금을 거래량으로 가중산술평균한 1개월 가중산술평균주가와 1주일 가중산술평균주가 및 기산일 가중산술합니다.\n"
     ]
    }
   ],
   "source": [
    "# 9번 \n",
    "headers = {\n",
    "    'x-api-key': api_key,\n",
    "    \"Content-Type\": \"application/json\",\n",
    "}\n",
    "\n",
    "data = {\n",
    "    'sourceId': sourceId,\n",
    "    'messages': [\n",
    "        {\n",
    "            'role': \"user\",\n",
    "            'content': \"24.기타 투자판단에 참고할 사항에서 가.신주발행가액의 산정방법에 대해서 간략하게 요약해줘\",\n",
    "        }\n",
    "    ]\n",
    "}\n",
    "\n",
    "response = requests.post(\n",
    "    base_url+chat_with_pdf_url, headers=headers, json=data)\n",
    "\n",
    "if response.status_code == 200:\n",
    "    print('user Result:', response.json()['content'])\n",
    "else:\n",
    "    print('Status:', response.status_code)\n",
    "    print('Error:', response.text)"
   ]
  },
  {
   "cell_type": "code",
   "execution_count": 10,
   "metadata": {},
   "outputs": [
    {
     "name": "stdout",
     "output_type": "stream",
     "text": [
      "user Result: 나. 청약결과 배정방법은 구주주 청약(신주인수권증서 청약)의 경우 보유하고 있는 신주인수권증서 수량 범위 내에서 청약한 주식수에 따라 배정되며, 일반공모 청약결과 일반공모 총 청약자의 청약주식수가 일반공모 배정분을 초과하는 경우에는 청약경쟁률에 따라 안분 배정하여 잔여주식이 최소화되도록 합니다.\n"
     ]
    }
   ],
   "source": [
    "# 17번\n",
    "\n",
    "headers = {\n",
    "    'x-api-key': api_key,\n",
    "    \"Content-Type\": \"application/json\",\n",
    "}\n",
    "\n",
    "data = {\n",
    "    'sourceId': sourceId,\n",
    "    'messages': [\n",
    "        {\n",
    "            'role': \"user\",\n",
    "            'content': \"24.기타 투자판단에 참고할 사항에서 나.청약결과 배정방법에 대해서 간략하게 요약해줘\",\n",
    "        }\n",
    "    ]\n",
    "}\n",
    "\n",
    "response = requests.post(\n",
    "    base_url+chat_with_pdf_url, headers=headers, json=data)\n",
    "\n",
    "if response.status_code == 200:\n",
    "    print('user Result:', response.json()['content'])\n",
    "else:\n",
    "    print('Status:', response.status_code)\n",
    "    print('Error:', response.text)"
   ]
  },
  {
   "cell_type": "code",
   "execution_count": 11,
   "metadata": {},
   "outputs": [
    {
     "name": "stdout",
     "output_type": "stream",
     "text": [
      "user Result: 확정 발행가액 산정방법은 「자본시장과 금융투자업에 관한 법률」 제165조의6 및 「증권의 발행 및 공시 등에 관한 규정」 제5-15조의2규정에 따라, 청약일전 과거 제3거래일로부터 제5거래일까지의 가중산술평균주가에서 할인율 40%를 적용하여 산정한 가격을 확정발행가액으로 합니다.\n"
     ]
    }
   ],
   "source": [
    "# 21번\n",
    "\n",
    "headers = {\n",
    "    'x-api-key': api_key,\n",
    "    \"Content-Type\": \"application/json\",\n",
    "}\n",
    "\n",
    "data = {\n",
    "    'sourceId': sourceId,\n",
    "    'messages': [\n",
    "        {\n",
    "            'role': \"user\",\n",
    "            'content': \"24.기타 투자판단에 참고할 사항에서 가.신주발행가액 산정방법 중 확정 발행가액 산정방법에 대해서 간략하게 요약해줘\",\n",
    "        }\n",
    "    ]\n",
    "}\n",
    "\n",
    "response = requests.post(\n",
    "    base_url+chat_with_pdf_url, headers=headers, json=data)\n",
    "\n",
    "if response.status_code == 200:\n",
    "    print('user Result:', response.json()['content'])\n",
    "else:\n",
    "    print('Status:', response.status_code)\n",
    "    print('Error:', response.text)"
   ]
  },
  {
   "cell_type": "code",
   "execution_count": 12,
   "metadata": {},
   "outputs": [
    {
     "name": "stdout",
     "output_type": "stream",
     "text": [
      "user Result: 구주주 1주당 배정비율 산출근거는 해당 PDF 파일에서 찾을 수 없습니다. 배정비율과 관련된 내용은 페이지 6에서 언급되지만, 구주주 1주당 배정비율 산출근거에 대한 구체적인 설명은 제공되지 않습니다. 죄송합니다.\n"
     ]
    }
   ],
   "source": [
    "# 22번\n",
    "\n",
    "headers = {\n",
    "    'x-api-key': api_key,\n",
    "    \"Content-Type\": \"application/json\",\n",
    "}\n",
    "\n",
    "data = {\n",
    "    'sourceId': sourceId,\n",
    "    'messages': [\n",
    "        {\n",
    "            'role': \"user\",\n",
    "            'content': \"24.기타 투자판단에 참고할 사항에서 나.청약결과 배정방법에 있는 내용을 토대로 구주주 1주당 배정비율 산출근거를 간략하게 요약해줘\",\n",
    "        }\n",
    "    ]\n",
    "}\n",
    "\n",
    "response = requests.post(\n",
    "    base_url+chat_with_pdf_url, headers=headers, json=data)\n",
    "\n",
    "if response.status_code == 200:\n",
    "    print('user Result:', response.json()['content'])\n",
    "else:\n",
    "    print('Status:', response.status_code)\n",
    "    print('Error:', response.text)"
   ]
  },
  {
   "cell_type": "code",
   "execution_count": 13,
   "metadata": {},
   "outputs": [
    {
     "name": "stdout",
     "output_type": "stream",
     "text": [
      "user Result: 라. 신주인수권에 관한 사항은 '자본시장과 금융투자업에 관한 법률' 제165의 6조 3항 및 '증권의 발행 및 공시 등에 관한 규정' 제5-19조에 따라 주주에게 신주인수권증서를 발행한다는 내용입니다.\n"
     ]
    }
   ],
   "source": [
    "# 23번\n",
    "\n",
    "headers = {\n",
    "    'x-api-key': api_key,\n",
    "    \"Content-Type\": \"application/json\",\n",
    "}\n",
    "\n",
    "data = {\n",
    "    'sourceId': sourceId,\n",
    "    'messages': [\n",
    "        {\n",
    "            'role': \"user\",\n",
    "            'content': \"24.기타 투자판단에 참고할 사항에서 라.신주인수권에 관한 사항에 대해 간략하게 요약해줘\",\n",
    "        }\n",
    "    ]\n",
    "}\n",
    "\n",
    "response = requests.post(\n",
    "    base_url+chat_with_pdf_url, headers=headers, json=data)\n",
    "\n",
    "if response.status_code == 200:\n",
    "    print('user Result:', response.json()['content'])\n",
    "else:\n",
    "    print('Status:', response.status_code)\n",
    "    print('Error:', response.text)"
   ]
  },
  {
   "cell_type": "code",
   "execution_count": null,
   "metadata": {},
   "outputs": [],
   "source": []
  }
 ],
 "metadata": {
  "kernelspec": {
   "display_name": "Python 3",
   "language": "python",
   "name": "python3"
  },
  "language_info": {
   "codemirror_mode": {
    "name": "ipython",
    "version": 3
   },
   "file_extension": ".py",
   "mimetype": "text/x-python",
   "name": "python",
   "nbconvert_exporter": "python",
   "pygments_lexer": "ipython3",
   "version": "3.8.10"
  },
  "orig_nbformat": 4
 },
 "nbformat": 4,
 "nbformat_minor": 2
}
